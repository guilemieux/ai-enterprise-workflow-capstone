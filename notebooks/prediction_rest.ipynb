{
 "cells": [
  {
   "cell_type": "code",
   "execution_count": 1,
   "metadata": {},
   "outputs": [],
   "source": [
    "import os\n",
    "import sys\n",
    "import csv\n",
    "import requests\n",
    "from collections import Counter\n",
    "from datetime import date\n",
    "from ast import literal_eval\n",
    "import numpy as np\n",
    "import pandas as pd"
   ]
  },
  {
   "cell_type": "code",
   "execution_count": 2,
   "metadata": {},
   "outputs": [],
   "source": [
    "port = 4000"
   ]
  },
  {
   "cell_type": "code",
   "execution_count": 3,
   "metadata": {
    "scrolled": true
   },
   "outputs": [
    {
     "name": "stdout",
     "output_type": "stream",
     "text": [
      "{'mode': 'test'}\n",
      "true\n",
      "\n"
     ]
    }
   ],
   "source": [
    "request_json = {'mode':'test'}\n",
    "print(request_json)\n",
    "r = requests.post('http://127.0.0.1:{}/train'.format(port),json=request_json)\n",
    "response = r.text\n",
    "\n",
    "print(response)"
   ]
  },
  {
   "cell_type": "code",
   "execution_count": 4,
   "metadata": {},
   "outputs": [
    {
     "name": "stdout",
     "output_type": "stream",
     "text": [
      "{'country': 'netherlands', 'year': '2019', 'month': '01', 'day': '05', 'mode': 'test'}\n",
      "{\"y_pred\":[928.8046666666667],\"y_proba\":null}\n",
      "\n"
     ]
    }
   ],
   "source": [
    "## ping the API\n",
    "request_json = {'country':'netherlands','year':'2019','month':'01','day':'05','mode':'test'}\n",
    "print(request_json)\n",
    "r = requests.post('http://127.0.0.1:{}/predict'.format(port),json=request_json)\n",
    "response = r.text\n",
    "\n",
    "print(response)"
   ]
  },
  {
   "cell_type": "code",
   "execution_count": null,
   "metadata": {},
   "outputs": [],
   "source": []
  }
 ],
 "metadata": {
  "kernelspec": {
   "display_name": "Python 3",
   "language": "python",
   "name": "python3"
  },
  "language_info": {
   "codemirror_mode": {
    "name": "ipython",
    "version": 3
   },
   "file_extension": ".py",
   "mimetype": "text/x-python",
   "name": "python",
   "nbconvert_exporter": "python",
   "pygments_lexer": "ipython3",
   "version": "3.7.6"
  }
 },
 "nbformat": 4,
 "nbformat_minor": 2
}
